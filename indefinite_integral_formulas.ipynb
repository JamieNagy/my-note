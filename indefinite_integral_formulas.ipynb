{
 "cells": [
  {
   "cell_type": "markdown",
   "id": "7114e3c6",
   "metadata": {},
   "source": [
    "# Indefinite Integral Formulas\n"
   ]
  },
  {
   "cell_type": "markdown",
   "id": "5b7b3bc7",
   "metadata": {},
   "source": [
    "\n",
    "## 1. Basic Indefinite Integral Formulas\n",
    "\n",
    "### Power Rule:\n",
    "$$\n",
    "\\int x^n \\, dx = \\frac{x^{n+1}}{n+1} + C \\quad \\text{(for } n \\neq -1\\text{)}\n",
    "$$\n",
    "- Example: \n",
    "$$\n",
    "\\int x^2 \\, dx = \\frac{x^3}{3} + C\n",
    "$$\n",
    "\n",
    "### Exponential Functions:\n",
    "$$\n",
    "\\int e^x \\, dx = e^x + C\n",
    "$$\n",
    "$$\n",
    "\\int a^x \\, dx = \\frac{a^x}{\\ln a} + C \\quad \\text{(for any positive constant } a \\neq 1\\text{)}\n",
    "$$\n",
    "\n",
    "### Natural Logarithm:\n",
    "$$\n",
    "\\int \\frac{1}{x} \\, dx = \\ln |x| + C \\quad \\text{(for } x \\neq 0\\text{)}\n",
    "$$\n"
   ]
  },
  {
   "cell_type": "markdown",
   "id": "5343a90f",
   "metadata": {},
   "source": [
    "\n",
    "### Trigonometric Functions:\n",
    "$$\n",
    "\\int \\sin(x) \\, dx = -\\cos(x) + C\n",
    "$$\n",
    "$$\n",
    "\\int \\cos(x) \\, dx = \\sin(x) + C\n",
    "$$\n",
    "$$\n",
    "\\int \\sec^2(x) \\, dx = \\tan(x) + C\n",
    "$$\n",
    "$$\n",
    "\\int \\csc^2(x) \\, dx = -\\cot(x) + C\n",
    "$$\n",
    "$$\n",
    "\\int \\sec(x) \\tan(x) \\, dx = \\sec(x) + C\n",
    "$$\n",
    "$$\n",
    "\\int \\csc(x) \\cot(x) \\, dx = -\\csc(x) + C\n",
    "$$\n"
   ]
  },
  {
   "cell_type": "markdown",
   "id": "372d74da",
   "metadata": {},
   "source": [
    "\n",
    "### Inverse Trigonometric Functions:\n",
    "$$\n",
    "\\int \\frac{1}{\\sqrt{1 - x^2}} \\, dx = \\sin^{-1}(x) + C\n",
    "$$\n",
    "$$\n",
    "\\int \\frac{1}{1 + x^2} \\, dx = \\tan^{-1}(x) + C\n",
    "$$\n",
    "$$\n",
    "\\int \\frac{1}{x \\sqrt{x^2 - 1}} \\, dx = \\sec^{-1}(x) + C \\quad \\text{(for } |x| > 1\\text{)}\n",
    "$$\n"
   ]
  },
  {
   "cell_type": "markdown",
   "id": "ce04bac9",
   "metadata": {},
   "source": [
    "\n",
    "## 2. Special Cases and Constant Multiples\n",
    "\n",
    "### Constant:\n",
    "$$\n",
    "\\int c \\, dx = cx + C \\quad \\text{(where } c \\text{ is a constant)}\n",
    "$$\n",
    "- Example: \n",
    "$$\n",
    "\\int 5 \\, dx = 5x + C\n",
    "$$\n",
    "\n",
    "### Sum Rule:\n",
    "$$\n",
    "\\int (f(x) + g(x)) \\, dx = \\int f(x) \\, dx + \\int g(x) \\, dx\n",
    "$$\n",
    "- Example: \n",
    "$$\n",
    "\\int (2x + 3) \\, dx = \\int 2x \\, dx + \\int 3 \\, dx = x^2 + 3x + C\n",
    "$$\n",
    "\n",
    "### Constant Multiple Rule:\n",
    "$$\n",
    "\\int c \\cdot f(x) \\, dx = c \\int f(x) \\, dx\n",
    "$$\n",
    "- Example: \n",
    "$$\n",
    "\\int 3e^x \\, dx = 3 \\int e^x \\, dx = 3e^x + C\n",
    "$$\n"
   ]
  }
 ],
 "metadata": {
  "kernelspec": {
   "display_name": "Python 3 (ipykernel)",
   "language": "python",
   "name": "python3"
  },
  "language_info": {
   "codemirror_mode": {
    "name": "ipython",
    "version": 3
   },
   "file_extension": ".py",
   "mimetype": "text/x-python",
   "name": "python",
   "nbconvert_exporter": "python",
   "pygments_lexer": "ipython3",
   "version": "3.12.3"
  }
 },
 "nbformat": 4,
 "nbformat_minor": 5
}
